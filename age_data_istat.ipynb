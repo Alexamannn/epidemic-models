{
  "nbformat": 4,
  "nbformat_minor": 0,
  "metadata": {
    "colab": {
      "name": "age_data_istat.ipynb",
      "provenance": [],
      "collapsed_sections": []
    },
    "kernelspec": {
      "name": "python3",
      "display_name": "Python 3"
    }
  },
  "cells": [
    {
      "cell_type": "code",
      "metadata": {
        "id": "J1kaI_E-bd7C",
        "colab_type": "code",
        "colab": {}
      },
      "source": [
        "import pandas as pd\n",
        "import numpy as np"
      ],
      "execution_count": 0,
      "outputs": []
    },
    {
      "cell_type": "code",
      "metadata": {
        "id": "bP-qtswnQj0e",
        "colab_type": "code",
        "outputId": "ccfdc17c-e48e-4b6c-cd09-e33c0f278d1a",
        "colab": {
          "base_uri": "https://localhost:8080/",
          "height": 122
        }
      },
      "source": [
        "from google.colab import drive\n",
        "drive.mount('/content/drive')"
      ],
      "execution_count": 2,
      "outputs": [
        {
          "output_type": "stream",
          "text": [
            "Go to this URL in a browser: https://accounts.google.com/o/oauth2/auth?client_id=947318989803-6bn6qk8qdgf4n4g3pfee6491hc0brc4i.apps.googleusercontent.com&redirect_uri=urn%3aietf%3awg%3aoauth%3a2.0%3aoob&response_type=code&scope=email%20https%3a%2f%2fwww.googleapis.com%2fauth%2fdocs.test%20https%3a%2f%2fwww.googleapis.com%2fauth%2fdrive%20https%3a%2f%2fwww.googleapis.com%2fauth%2fdrive.photos.readonly%20https%3a%2f%2fwww.googleapis.com%2fauth%2fpeopleapi.readonly\n",
            "\n",
            "Enter your authorization code:\n",
            "··········\n",
            "Mounted at /content/drive\n"
          ],
          "name": "stdout"
        }
      ]
    },
    {
      "cell_type": "code",
      "metadata": {
        "id": "xcFvKE_ncI3q",
        "colab_type": "code",
        "colab": {}
      },
      "source": [
        "data = pd.read_csv(\"/content/drive/My Drive/Colab Notebooks/covid/DCIS_POPRES1_25052020170201288.csv\")"
      ],
      "execution_count": 0,
      "outputs": []
    },
    {
      "cell_type": "code",
      "metadata": {
        "id": "TKRnBHHZcgQi",
        "colab_type": "code",
        "colab": {}
      },
      "source": [
        "df = data.loc[(data.SEXISTAT1 == 9) &\n",
        "                (data.STATCIV2 == 99) &\n",
        "                (data.ITTER107.str.len() >= 5) &\n",
        "                (data.ETA1 != \"TOTAL\")][[\"Territorio\", \"ETA1\", \"Value\"]]"
      ],
      "execution_count": 0,
      "outputs": []
    },
    {
      "cell_type": "code",
      "metadata": {
        "id": "t5i0kfT3eKJg",
        "colab_type": "code",
        "colab": {}
      },
      "source": [
        "df.ETA1 = df.ETA1.str.replace(\"Y\",\"\")\n",
        "df.ETA1 = df.ETA1.str.replace(\"_GE\",\"\")\n",
        "df.Territorio = df.Territorio.str.replace(\"Valle d'Aosta / Vallée d'Aoste\",\n",
        "                                                \"Valle d'Aosta\")\n",
        "df.Territorio = df.Territorio.str.replace(\"Bolzano / Bozen\", \"Bolzano\")\n",
        "df = df.astype({\"ETA1\": int})"
      ],
      "execution_count": 0,
      "outputs": []
    },
    {
      "cell_type": "code",
      "metadata": {
        "id": "WrDBawpWx443",
        "colab_type": "code",
        "colab": {}
      },
      "source": [
        "df_final = pd.DataFrame()\n",
        "\n",
        "for provincia in df.Territorio.unique():\n",
        "  df1 = df.loc[df[\"Territorio\"] == provincia]\n",
        "\n",
        "  a = df1[df1[\"ETA1\"] <= 25].groupby([\"Territorio\"]).agg({\"Value\" : sum})\n",
        "  b = df1[(df1[\"ETA1\"] > 25) & (df1[\"ETA1\"] <= 50)].groupby([\"Territorio\"]).agg({\"Value\" : sum})\n",
        "  c = df1[(df1[\"ETA1\"] > 50) & (df1[\"ETA1\"] <= 75)].groupby([\"Territorio\"]).agg({\"Value\" : sum})\n",
        "  d = df1[df1[\"ETA1\"] > 75].groupby([\"Territorio\"]).agg({\"Value\" : sum})\n",
        "\n",
        "  tmp = pd.concat([a, b, c, d])\n",
        "  tmp.reset_index(level=0, inplace=True)\n",
        "  tmp = tmp.append(pd.DataFrame([{\"Territorio\" : provincia, \"Value\" : tmp.Value.sum()}]), ignore_index=True)\n",
        "  tmp[\"Eta\"] = [\"0-25\", \"25-50\", \"50-75\", \"75-100\", \"Total\"]\n",
        "  tmp[\"Percentage\"] = tmp.Value.apply(lambda x: x / tmp.Value.values[-1])\n",
        "\n",
        "  df_final = pd.concat([df_final, tmp])"
      ],
      "execution_count": 0,
      "outputs": []
    },
    {
      "cell_type": "code",
      "metadata": {
        "id": "g9Gk2gbwJZQr",
        "colab_type": "code",
        "colab": {}
      },
      "source": [
        "df_final.to_csv(\"/content/drive/My Drive/Colab Notebooks/covid/pop_prov_age.csv\", index=False)"
      ],
      "execution_count": 0,
      "outputs": []
    }
  ]
}